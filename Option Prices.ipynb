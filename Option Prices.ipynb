{
 "cells": [
  {
   "cell_type": "code",
   "execution_count": 1,
   "metadata": {},
   "outputs": [],
   "source": [
    "import math\n",
    "from scipy.stats import norm"
   ]
  },
  {
   "cell_type": "code",
   "execution_count": 11,
   "metadata": {},
   "outputs": [],
   "source": [
    "# Prix d'un call\n",
    "\n",
    "def Call_price(S,K, r, sigma, T):\n",
    "    d1 = (math.log(S/K) + (r +1/2*sigma**2)*T)/(sigma*math.sqrt(T))\n",
    "    d2 = d1 - sigma*math.sqrt(T)\n",
    "    call_price =    S*norm.cdf(d1) - K*math.exp(-r*T) * norm.cdf(d2)\n",
    "    \n",
    "    return call_price"
   ]
  },
  {
   "cell_type": "code",
   "execution_count": 12,
   "metadata": {},
   "outputs": [],
   "source": [
    "# Prix d'un put\n",
    "def Put_price(S,K, r, sigma, T):\n",
    "    d1 = (math.log(S/K) + (r +1/2*sigma**2)*T)/(sigma*math.sqrt(T))\n",
    "    d2 = d1 - sigma*math.sqrt(T)\n",
    "    put_price =    -S*norm.cdf(-d1) + K*math.exp(-r*T) * norm.cdf(-d2)\n",
    "    \n",
    "    return put_price"
   ]
  },
  {
   "cell_type": "code",
   "execution_count": 13,
   "metadata": {},
   "outputs": [],
   "source": [
    "# Test\n",
    "S  = 100\n",
    "K = 110\n",
    "r = 0.05\n",
    "T = 0.5\n",
    "sigma = 0.25\n"
   ]
  },
  {
   "cell_type": "code",
   "execution_count": 14,
   "metadata": {},
   "outputs": [],
   "source": [
    "call_price = Call_price(S,K, r, sigma, T)\n",
    "put_price = Put_price(S,K, r, sigma, T)"
   ]
  },
  {
   "cell_type": "code",
   "execution_count": 15,
   "metadata": {},
   "outputs": [
    {
     "name": "stdout",
     "output_type": "stream",
     "text": [
      "Le prix du call est: 4.22578239296007\n",
      "Le prix du put est : 11.509872716076657\n"
     ]
    }
   ],
   "source": [
    "print(\"Le prix du call est:\", call_price)\n",
    "print(\"Le prix du put est :\", put_price)"
   ]
  }
 ],
 "metadata": {
  "kernelspec": {
   "display_name": "Python 3",
   "language": "python",
   "name": "python3"
  },
  "language_info": {
   "codemirror_mode": {
    "name": "ipython",
    "version": 3
   },
   "file_extension": ".py",
   "mimetype": "text/x-python",
   "name": "python",
   "nbconvert_exporter": "python",
   "pygments_lexer": "ipython3",
   "version": "3.11.3"
  }
 },
 "nbformat": 4,
 "nbformat_minor": 2
}
