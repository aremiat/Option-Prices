{
 "cells": [
  {
   "cell_type": "code",
   "execution_count": 1,
   "metadata": {},
   "outputs": [],
   "source": [
    "import math\n",
    "from scipy.stats import norm"
   ]
  },
  {
   "cell_type": "code",
   "execution_count": 2,
   "metadata": {},
   "outputs": [],
   "source": [
    "# Prix d'un call\n",
    "\n",
    "def Call_price(S,K, r, sigma, T):\n",
    "    d1 = (math.log(S/K) + (r +1/2*sigma**2)*T)/(sigma*math.sqrt(T))\n",
    "    d2 = d1 - sigma*math.sqrt(T)\n",
    "    call_price =    S*norm.cdf(d1) - K*math.exp(-r*T) * norm.cdf(d2)\n",
    "    \n",
    "    \n",
    "    return call_price"
   ]
  },
  {
   "cell_type": "code",
   "execution_count": 3,
   "metadata": {},
   "outputs": [],
   "source": [
    "# Prix d'un put\n",
    "def Put_price(S,K, r, sigma, T):\n",
    "    d1 = (math.log(S/K) + (r +1/2*sigma**2)*T)/(sigma*math.sqrt(T))\n",
    "    d2 = d1 - sigma*math.sqrt(T)\n",
    "    put_price =    -S*norm.cdf(-d1) + K*math.exp(-r*T) * norm.cdf(-d2)\n",
    "    \n",
    "\n",
    "    return put_price"
   ]
  },
  {
   "cell_type": "code",
   "execution_count": 4,
   "metadata": {},
   "outputs": [
    {
     "data": {
      "text/plain": [
       "'\\ndef Delta_put(S,K, r, sigma, T):\\n    d1 = (math.log(S/K) + (r +1/2*sigma**2)*T)/(sigma*math.sqrt(T))\\n    d2 = d1 - sigma*math.sqrt(T)\\n    put_price =    -S*norm.cdf(-d1) + K*math.exp(-r*T) * norm.cdf(-d2)\\n    delta_put = norm.cdf(d1) - 1\\n\\n    return delta_put\\n'"
      ]
     },
     "execution_count": 4,
     "metadata": {},
     "output_type": "execute_result"
    }
   ],
   "source": [
    "# Delta d'un put\n",
    "'''\n",
    "def Delta_put(S,K, r, sigma, T):\n",
    "    d1 = (math.log(S/K) + (r +1/2*sigma**2)*T)/(sigma*math.sqrt(T))\n",
    "    d2 = d1 - sigma*math.sqrt(T)\n",
    "    put_price =    -S*norm.cdf(-d1) + K*math.exp(-r*T) * norm.cdf(-d2)\n",
    "    delta_put = norm.cdf(d1) - 1\n",
    "\n",
    "    return delta_put\n",
    "'''"
   ]
  },
  {
   "cell_type": "code",
   "execution_count": 5,
   "metadata": {},
   "outputs": [],
   "source": [
    "# Test\n",
    "S  = 500\n",
    "K = 520\n",
    "r = 0.09075\n",
    "T = 90/365\n",
    "sigma = 0.4\n"
   ]
  },
  {
   "cell_type": "code",
   "execution_count": 6,
   "metadata": {},
   "outputs": [],
   "source": [
    "call_price = Call_price(S,K, r, sigma, T)\n",
    "put_price = Put_price(S,K, r, sigma, T)\n",
    "# Delta_put = Delta_put(S,K, r, sigma, T)"
   ]
  },
  {
   "cell_type": "code",
   "execution_count": 7,
   "metadata": {},
   "outputs": [
    {
     "name": "stdout",
     "output_type": "stream",
     "text": [
      "Le prix du call est: 35.78717115814885\n",
      "Le prix du put est : 44.28050159287824\n"
     ]
    }
   ],
   "source": [
    "print(\"Le prix du call est:\", call_price)\n",
    "print(\"Le prix du put est :\", put_price)"
   ]
  },
  {
   "cell_type": "code",
   "execution_count": 8,
   "metadata": {},
   "outputs": [],
   "source": [
    "# Delta de l'option, il mesure la sensibilité du prix de l'option en fonction des déplacements du sous_jacents\n",
    "\n",
    "\n",
    "def Call_price_delta(S,K, r, sigma, T):\n",
    "    d1 = (math.log(S/K) + (r +1/2*sigma**2)*T)/(sigma*math.sqrt(T))\n",
    "    d2 = d1 - sigma*math.sqrt(T)\n",
    "    call_price =    S*norm.cdf(d1) - K*math.exp(-r*T) * norm.cdf(d2)\n",
    "    delta = norm.cdf(d1)\n",
    "    delta_call = delta_put = delta*(S/call_price)\n",
    "\n",
    "    return delta_call"
   ]
  },
  {
   "cell_type": "code",
   "execution_count": 9,
   "metadata": {},
   "outputs": [],
   "source": [
    "def Put_price_delta(S,K, r, sigma, T):\n",
    "    d1 = (math.log(S/K) + (r +1/2*sigma**2)*T)/(sigma*math.sqrt(T))\n",
    "    d2 = d1 - sigma*math.sqrt(T)\n",
    "    put_price =    -S*norm.cdf(-d1) + K*math.exp(-r*T) * norm.cdf(-d2)\n",
    "    delta = norm.cdf(d1) - 1\n",
    "    delta_put = delta*(S/put_price)\n",
    "\n",
    "    return delta_put"
   ]
  },
  {
   "cell_type": "code",
   "execution_count": 10,
   "metadata": {},
   "outputs": [],
   "source": [
    "delta_call = Call_price_delta(S,K, r, sigma, T)\n",
    "delta_put = Put_price_delta(S,K, r, sigma, T)"
   ]
  },
  {
   "cell_type": "code",
   "execution_count": 11,
   "metadata": {},
   "outputs": [
    {
     "name": "stdout",
     "output_type": "stream",
     "text": [
      "Le delta de l'option call est : 7.066616002625104\n",
      "Le delta de l'option put est : -5.580465322571786\n"
     ]
    }
   ],
   "source": [
    "# Logique puisque le put perd de la valeur quand le sous-jacent augemente car la proba que le put soit exercé diminue\n",
    "print(\"Le delta de l'option call est :\", delta_call)\n",
    "print(\"Le delta de l'option put est :\", delta_put)"
   ]
  },
  {
   "cell_type": "code",
   "execution_count": 12,
   "metadata": {},
   "outputs": [],
   "source": [
    "# Gamma \n",
    "# Autre mesure de la variation du SJ, plus le gamma est fort plus l'évaluation de l'impact d'une variation de S sur le prix de l'option via le delta est fausse\n",
    "\n",
    "def Gamma(S,K, r, sigma, T):\n",
    "    d1 = (math.log(S/K) + (r +1/2*sigma**2)*T) / (sigma*math.sqrt(T))\n",
    "    gamma = (math.exp(-r*T) / (S*sigma*math.sqrt(T))) * (1 / math.sqrt(2*math.pi)) * math.exp(-1/2*d1**2/2)\n",
    "   \n",
    "    return gamma"
   ]
  },
  {
   "cell_type": "code",
   "execution_count": 13,
   "metadata": {},
   "outputs": [],
   "source": [
    "gamma = Gamma(S,K, r, sigma, T)"
   ]
  },
  {
   "cell_type": "code",
   "execution_count": 14,
   "metadata": {},
   "outputs": [
    {
     "name": "stdout",
     "output_type": "stream",
     "text": [
      "0.003927935125839445\n"
     ]
    }
   ],
   "source": [
    "# Le gamma est positif pour les call et négatif pour les put\n",
    "print(gamma)"
   ]
  },
  {
   "cell_type": "code",
   "execution_count": 15,
   "metadata": {},
   "outputs": [],
   "source": [
    "# Le vega permet de mesurer la sensibilité du prix de l'option aux variations de la volatilité implicite du sous-jacent\n",
    "\n",
    "def calculate_vega(S, K, r, T, sigma):\n",
    "    d1 = (math.log(S / K) + (r + 0.5 * sigma ** 2) * T) / (sigma * math.sqrt(T))\n",
    "    vega = S * math.sqrt(T) * math.exp(-d1 ** 2 / 2) / math.sqrt(2 * math.pi)\n",
    "    return vega"
   ]
  },
  {
   "cell_type": "code",
   "execution_count": 16,
   "metadata": {},
   "outputs": [],
   "source": [
    "vega = calculate_vega(S, K, r, T, sigma)"
   ]
  },
  {
   "cell_type": "code",
   "execution_count": 17,
   "metadata": {},
   "outputs": [
    {
     "name": "stdout",
     "output_type": "stream",
     "text": [
      "Le vega associé à l'option est : 99.03966788608602\n"
     ]
    }
   ],
   "source": [
    "print(\"Le vega associé à l'option est :\", vega)"
   ]
  },
  {
   "cell_type": "code",
   "execution_count": 31,
   "metadata": {},
   "outputs": [],
   "source": [
    "# Le theta permet de mesurer la sensibilité du prix de l'option aux variations du temps\n",
    "\n",
    "def calculate_theta(S, K, r, T, sigma):\n",
    "    d1 = (math.log(S / K) + (r + 0.5 * sigma ** 2) * T) / (sigma * math.sqrt(T))\n",
    "    d2 = d1 - sigma*math.sqrt(T)\n",
    "    theta = -S * norm.pdf(d1) * sigma / (2 * math.sqrt(T)) - r * K * math.exp(-r * T) * norm.cdf(d2)\n",
    "    return theta\n"
   ]
  },
  {
   "cell_type": "code",
   "execution_count": 32,
   "metadata": {},
   "outputs": [
    {
     "name": "stdout",
     "output_type": "stream",
     "text": [
      "-100.03463760339004\n"
     ]
    }
   ],
   "source": [
    "# Perte de valeur dans le temps d'une option\n",
    "\n",
    "theta_call = calculate_theta(S, K, r, T, sigma)\n",
    "\n",
    "print(theta_call)"
   ]
  },
  {
   "cell_type": "code",
   "execution_count": 33,
   "metadata": {},
   "outputs": [],
   "source": [
    "# Le theta permet de mesurer la sensibilité du prix de l'option aux variations du temps\n",
    "\n",
    "def calculate_theta_put(S, K, r, T, sigma):\n",
    "    d1 = (math.log(S / K) + (r + 0.5 * sigma ** 2) * T) / (sigma * math.sqrt(T))\n",
    "    d2 = d1 - sigma*math.sqrt(T)\n",
    "    theta_put = -S * norm.pdf(d1) * sigma / (2 * math.sqrt(T)) + r * K * math.exp(-r * T) * (1-norm.cdf(d2))\n",
    "    return theta_put"
   ]
  },
  {
   "cell_type": "code",
   "execution_count": 34,
   "metadata": {},
   "outputs": [
    {
     "name": "stdout",
     "output_type": "stream",
     "text": [
      "-100.03463760339004\n"
     ]
    }
   ],
   "source": [
    "# Perte de valeur dans le temps d'une option\n",
    "\n",
    "theta_put = calculate_theta(S, K, r, T, sigma)\n",
    "\n",
    "print(theta_put)"
   ]
  },
  {
   "cell_type": "code",
   "execution_count": null,
   "metadata": {},
   "outputs": [],
   "source": [
    "# Le Rho (ρρ) d'une option mesure la sensibilité du prix de l'option aux variations du taux d'intérêt sans risque\n",
    "\n",
    "def calculate_rho_call(S, K, r, T, sigma):\n",
    "    d1 = (math.log(S / K) + (r + 0.5 * sigma ** 2) * T) / (sigma * math.sqrt(T))\n",
    "    d2 = d1 - sigma*math.sqrt(T)\n",
    "    rho_call = K * T * math.exp(-r*T) * norm.cdf(d2)\n",
    "    return rho_call\n"
   ]
  },
  {
   "cell_type": "code",
   "execution_count": null,
   "metadata": {},
   "outputs": [
    {
     "name": "stdout",
     "output_type": "stream",
     "text": [
      "53.53323909946259\n"
     ]
    }
   ],
   "source": [
    "rho_call = calculate_rho_call(S, K, r, T, sigma)\n",
    "print(rho_call)"
   ]
  },
  {
   "cell_type": "code",
   "execution_count": null,
   "metadata": {},
   "outputs": [],
   "source": [
    "def calculate_rho_put(S, K, r, T, sigma):\n",
    "    d1 = (math.log(S / K) + (r + 0.5 * sigma ** 2) * T) / (sigma * math.sqrt(T))\n",
    "    d2 = d1 - sigma*math.sqrt(T)\n",
    "    rho_put = -K * T * math.exp(-r*T) * norm.cdf(-d2)\n",
    "    return rho_put"
   ]
  },
  {
   "cell_type": "code",
   "execution_count": null,
   "metadata": {},
   "outputs": [
    {
     "name": "stdout",
     "output_type": "stream",
     "text": [
      "-71.8486779940323\n"
     ]
    }
   ],
   "source": [
    "rho_put = calculate_rho_put(S, K, r, T, sigma)\n",
    "print(rho_put)"
   ]
  },
  {
   "cell_type": "code",
   "execution_count": null,
   "metadata": {},
   "outputs": [
    {
     "name": "stdout",
     "output_type": "stream",
     "text": [
      "Prix du Call : 35.85184854069991\n",
      "Delta : 0.50600235087574\n",
      "Gamma : 0.004011318601490087\n",
      "Vega : 99.1687098701716\n",
      "Theta : -99.93267344572\n",
      "Rho : 53.68413914957818\n"
     ]
    }
   ],
   "source": [
    "import QuantLib as ql\n",
    "\n",
    "# Paramètres de l'option\n",
    "S0 = 500.0    # Prix du sous-jacent\n",
    "K = 520.0     # Prix d'exercice\n",
    "r = 0.09075      # Taux d'intérêt sans risque\n",
    "volatility = 0.4  # Volatilité\n",
    "expiration_date = ql.Date(30, 3, 2024)  # Date d'expiration\n",
    "today = ql.Date(1, 1, 2024)  # Date d'aujourd'hui\n",
    "ql.Settings.instance().evaluationDate = today\n",
    "\n",
    "# Construction du processus de Black-Scholes\n",
    "spot_handle = ql.QuoteHandle(ql.SimpleQuote(S0))\n",
    "flat_ts = ql.YieldTermStructureHandle(ql.FlatForward(today, ql.QuoteHandle(ql.SimpleQuote(r)), ql.Actual360()))\n",
    "dividend_yield = ql.YieldTermStructureHandle(ql.FlatForward(today, ql.QuoteHandle(ql.SimpleQuote(0.0)), ql.Actual360()))\n",
    "flat_vol_ts = ql.BlackVolTermStructureHandle(ql.BlackConstantVol(today, ql.NullCalendar(), ql.QuoteHandle(ql.SimpleQuote(volatility)), ql.Actual360()))\n",
    "\n",
    "bsm_process = ql.BlackScholesMertonProcess(spot_handle, dividend_yield, flat_ts, flat_vol_ts)\n",
    "\n",
    "# Construction des options européennes\n",
    "option_type = ql.Option.Call\n",
    "payoff = ql.PlainVanillaPayoff(option_type, K)\n",
    "exercise = ql.EuropeanExercise(expiration_date)\n",
    "call_option = ql.VanillaOption(payoff, exercise)\n",
    "\n",
    "# Calcul du prix de l'option\n",
    "call_option.setPricingEngine(ql.AnalyticEuropeanEngine(bsm_process))\n",
    "call_price = call_option.NPV()\n",
    "print(\"Prix du Call :\", call_price)\n",
    "\n",
    "# Calcul des grecs associés\n",
    "delta = call_option.delta()\n",
    "gamma = call_option.gamma()\n",
    "vega = call_option.vega()\n",
    "theta = call_option.theta()\n",
    "rho = call_option.rho()\n",
    "print(\"Delta :\", delta)\n",
    "print(\"Gamma :\", gamma)\n",
    "print(\"Vega :\", vega)\n",
    "print(\"Theta :\", theta)\n",
    "print(\"Rho :\", rho)"
   ]
  }
 ],
 "metadata": {
  "kernelspec": {
   "display_name": "Python 3",
   "language": "python",
   "name": "python3"
  },
  "language_info": {
   "codemirror_mode": {
    "name": "ipython",
    "version": 3
   },
   "file_extension": ".py",
   "mimetype": "text/x-python",
   "name": "python",
   "nbconvert_exporter": "python",
   "pygments_lexer": "ipython3",
   "version": "3.11.3"
  }
 },
 "nbformat": 4,
 "nbformat_minor": 2
}
